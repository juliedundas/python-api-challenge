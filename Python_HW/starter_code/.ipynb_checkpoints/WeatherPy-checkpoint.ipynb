{
 "cells": [
  {
   "cell_type": "code",
   "execution_count": 9,
   "metadata": {},
   "outputs": [],
   "source": [
    "# WeatherPy\n",
    "\n",
    "#### Note\n",
    "# Instructions have been included for each segment. You do not have to follow them exactly, but they are included to help you think through the steps."
   ]
  },
  {
   "cell_type": "code",
   "execution_count": 10,
   "metadata": {
    "scrolled": true
   },
   "outputs": [],
   "source": [
    "# Dependencies and Setup\n",
    "import matplotlib.pyplot as plt\n",
    "import pandas as pd\n",
    "import numpy as np\n",
    "import requests\n",
    "import time\n",
    "from scipy.stats import linregress\n",
    "\n",
    "\n",
    "# Import API key\n",
    "from api_keys import weather_api_key\n",
    "\n",
    "# Incorporated citipy to determine city based on latitude and longitude\n",
    "from citipy import citipy\n",
    "\n",
    "# Output File (CSV)\n",
    "output_data_file = \"output_data/cities.csv\"\n",
    "\n",
    "# Range of latitudes and longitudes\n",
    "lat_range = (-90, 90)\n",
    "lng_range = (-180, 180)"
   ]
  },
  {
   "cell_type": "markdown",
   "metadata": {},
   "source": [
    "## Generate Cities List"
   ]
  },
  {
   "cell_type": "code",
   "execution_count": 11,
   "metadata": {},
   "outputs": [
    {
     "data": {
      "text/plain": [
       "627"
      ]
     },
     "execution_count": 11,
     "metadata": {},
     "output_type": "execute_result"
    }
   ],
   "source": [
    "# List for holding lat_lngs and cities\n",
    "lat_lngs = []\n",
    "cities = []\n",
    "\n",
    "# Create a set of random lat and lng combinations\n",
    "lats = np.random.uniform(low=-90.000, high=90.000, size=1500)\n",
    "lngs = np.random.uniform(low=-180.000, high=180.000, size=1500)\n",
    "lat_lngs = zip(lats, lngs)\n",
    "\n",
    "# Identify nearest city for each lat, lng combination\n",
    "for lat_lng in lat_lngs:\n",
    "    city = citipy.nearest_city(lat_lng[0], lat_lng[1]).city_name\n",
    "    \n",
    "    # If the city is unique, then add it to a our cities list\n",
    "    if city not in cities:\n",
    "        cities.append(city)\n",
    "\n",
    "# Print the city count to confirm sufficient count\n",
    "len(cities)\n",
    "#print(cities)"
   ]
  },
  {
   "cell_type": "markdown",
   "metadata": {},
   "source": [
    "### Perform API Calls\n",
    "* Perform a weather check on each city using a series of successive API calls.\n",
    "* Include a print log of each city as it'sbeing processed (with the city number and city name).\n"
   ]
  },
  {
   "cell_type": "code",
   "execution_count": null,
   "metadata": {},
   "outputs": [
    {
     "name": "stdout",
     "output_type": "stream",
     "text": [
      "Beginning Data Retrieval\n",
      "-----------------------------\n",
      "Now processing Record 1 of Set | Pevek\n",
      "Now processing Record 2 of Set | Atuona\n",
      "Now processing Record 3 of Set | Palmer\n",
      "Now processing Record 4 of Set | Taoudenni\n",
      "Now processing Record 5 of Set | Acapulco de Juarez\n",
      "Now processing Record 6 of Set | Baykit\n",
      "Now processing Record 7 of Set | Cape Town\n",
      "Now processing Record 8 of Set | Solnechnyy\n",
      "Now processing Record 9 of Set | Khatanga\n",
      "Now processing Record 10 of Set | Ambilobe\n",
      "Now processing Record 11 of Set | Ushuaia\n",
      "Now processing Record 12 of Set | Hong Kong\n",
      "Now processing Record 13 of Set | Castro\n",
      "Now processing Record 14 of Set | Salekhard\n",
      "Now processing Record 15 of Set | Mattru\n",
      "City not found. Skipping...\n",
      "Now processing Record 16 of Set | Bereda\n",
      "City not found. Skipping...\n",
      "Now processing Record 17 of Set | Quesnel\n",
      "Now processing Record 18 of Set | Port Alfred\n",
      "Now processing Record 19 of Set | Arraial do Cabo\n",
      "Now processing Record 20 of Set | Narsaq\n",
      "Now processing Record 21 of Set | Santa Maria\n",
      "Now processing Record 22 of Set | Matara\n",
      "Now processing Record 23 of Set | Tarata\n",
      "Now processing Record 24 of Set | Udachny\n",
      "Now processing Record 25 of Set | Mazamari\n",
      "Now processing Record 26 of Set | Hobart\n",
      "Now processing Record 27 of Set | Rikitea\n",
      "Now processing Record 28 of Set | Riyadh\n",
      "Now processing Record 29 of Set | Chokurdakh\n",
      "Now processing Record 30 of Set | Busselton\n",
      "Now processing Record 31 of Set | Hamilton\n",
      "Now processing Record 32 of Set | Ponta do Sol\n",
      "Now processing Record 33 of Set | Khani\n",
      "Now processing Record 34 of Set | Tiksi\n",
      "City not found. Skipping...\n",
      "Now processing Record 35 of Set | Springdale\n",
      "Now processing Record 36 of Set | Zabaykalsk\n",
      "Now processing Record 37 of Set | Adrar\n",
      "City not found. Skipping...\n",
      "Now processing Record 38 of Set | Tazovsky\n",
      "Now processing Record 39 of Set | Syracuse\n",
      "Now processing Record 40 of Set | Primorsko-Akhtarsk\n",
      "Now processing Record 41 of Set | Constitucion\n",
      "Now processing Record 42 of Set | Mataura\n",
      "Now processing Record 43 of Set | Yellowknife\n",
      "Now processing Record 44 of Set | Raudeberg\n",
      "Now processing Record 45 of Set | Labuhan\n",
      "Now processing Record 46 of Set | Punta Arenas\n",
      "Now processing Record 47 of Set | Faanui\n",
      "Now processing Record 48 of Set | Ribeira Grande\n",
      "Now processing Record 49 of Set | Saint-Joseph\n",
      "Now processing Record 50 of Set | Kolochava\n",
      "Now processing Record 51 of Set | Kaeo\n",
      "Now processing Record 52 of Set | Sai Buri\n",
      "Now processing Record 53 of Set | Pasuruan\n",
      "Now processing Record 54 of Set | Mount Gambier\n",
      "Now processing Record 55 of Set | Karasjok\n",
      "Now processing Record 56 of Set | Butaritari\n",
      "Now processing Record 57 of Set | Qaanaaq\n",
      "Now processing Record 58 of Set | Topchikha\n",
      "City not found. Skipping...\n"
     ]
    }
   ],
   "source": [
    "#Create variable for api key\n",
    "api_key = weather_api_key\n",
    "\n",
    "# Save config information.\n",
    "#url = \"http://api.openweathermap.org/data/2.5/weather?\"\n",
    "\n",
    "url = \"http://api.openweathermap.org/data/2.5/weather?units=Imperial&APPID=\" + api_key\n",
    "#units = \"metric\"\n",
    "\n",
    "# Build partial query URL\n",
    "#query_url = f\"{url}appid={api_key}&q={city}&units={units}\"\n",
    "\n",
    "\n",
    "\n",
    "\n",
    "# Get weather data\n",
    "weather_response = requests.get(url)\n",
    "weather_json = weather_response.json()\n",
    "\n",
    "# set up lists to hold reponse info\n",
    "lat = []\n",
    "lng = []\n",
    "temp = []\n",
    "humidity = []\n",
    "cloudiness = []\n",
    "wind_speed = []\n",
    "max_temp = []\n",
    "wind_speed = []\n",
    "country = []\n",
    "city_name = []\n",
    "\n",
    "#Initialize counters\n",
    "counter = 1\n",
    "sets = 0\n",
    "\n",
    "#Start analyzing data\n",
    "print('Beginning Data Retrieval')\n",
    "print('-----------------------------')\n",
    "\n",
    "# Loop through the list of cities and perform a request for data on each\n",
    "for city in cities:\n",
    "    try:\n",
    "        response = requests.get(f\"{url}&q={city}\").json() \n",
    "        #print(response)\n",
    "        city_name.append(response['name'])\n",
    "        lat.append(response['coord']['lat'])\n",
    "        lng.append(response['coord']['lon'])\n",
    "        temp.append(response['main']['temp'])\n",
    "        humidity.append(response['main']['humidity'])\n",
    "        cloudiness.append(response['clouds']['all'])\n",
    "        max_temp.append(response['main']['temp_max'])\n",
    "        wind_speed.append(response['wind']['speed'])\n",
    "        city_named = response['name']\n",
    "        #Include a print log of each city as it's being processed with the city number and city name.\n",
    "        print(f\"Now processing Record {counter} of Set {sets} | {city_named}\")\n",
    "    \n",
    "        #Reset counter\n",
    "        counter = counter + 1\n",
    "        \n",
    "        \n",
    "        #Wait one second between API calls so you do not overload limit\n",
    "        time.sleep(0.1)\n",
    "        count = 1 \n",
    "        sets = sets + 1\n",
    "        \n",
    "    except:\n",
    "        print(\"City not found. Skipping...\")\n",
    "    \n",
    "        \n",
    "print('-----------------------------')\n",
    "print('Data Retrieval Complete')\n",
    "print('-----------------------------')"
   ]
  },
  {
   "cell_type": "code",
   "execution_count": null,
   "metadata": {},
   "outputs": [],
   "source": [
    "#Create dataframe of response data so that you can graph it accordingly\n",
    "weather_df = pd.DataFrame({\"City Name\": city_name, \"Latitude\": lat, \"Longitude\": lng, \"Temprature\": temp, \"Humidity\":humidity, \"Cloudiness\": cloudiness, \"Max Temp\":max_temp,\"Wind Speed\": wind_speed})\n",
    "weather_df.head()"
   ]
  },
  {
   "cell_type": "code",
   "execution_count": null,
   "metadata": {},
   "outputs": [],
   "source": [
    "### Convert Raw Data to DataFrame\n",
    "# Export the city data into a .csv.\n",
    "#Display the DataFrame"
   ]
  },
  {
   "cell_type": "code",
   "execution_count": null,
   "metadata": {},
   "outputs": [],
   "source": [
    "# Save data frame to CSV\n",
    "to_CSV = weather_df.to_csv(output_data_file)\n",
    "to_CSV"
   ]
  },
  {
   "cell_type": "markdown",
   "metadata": {},
   "source": [
    "### Plotting the Data\n",
    "* Use proper labeling of the plots using plot titles (including date of analysis) and axes labels.\n",
    "* Save the plotted figures as .pngs."
   ]
  },
  {
   "cell_type": "markdown",
   "metadata": {},
   "source": [
    "#### Latitude vs. Temperature Plot"
   ]
  },
  {
   "cell_type": "code",
   "execution_count": null,
   "metadata": {
    "scrolled": true
   },
   "outputs": [],
   "source": []
  },
  {
   "cell_type": "markdown",
   "metadata": {},
   "source": [
    "#### Latitude vs. Humidity Plot"
   ]
  },
  {
   "cell_type": "code",
   "execution_count": null,
   "metadata": {},
   "outputs": [],
   "source": []
  },
  {
   "cell_type": "markdown",
   "metadata": {},
   "source": [
    "#### Latitude vs. Cloudiness Plot"
   ]
  },
  {
   "cell_type": "code",
   "execution_count": null,
   "metadata": {},
   "outputs": [],
   "source": []
  },
  {
   "cell_type": "markdown",
   "metadata": {},
   "source": [
    "#### Latitude vs. Wind Speed Plot"
   ]
  },
  {
   "cell_type": "code",
   "execution_count": null,
   "metadata": {},
   "outputs": [],
   "source": []
  },
  {
   "cell_type": "markdown",
   "metadata": {},
   "source": [
    "## Linear Regression"
   ]
  },
  {
   "cell_type": "code",
   "execution_count": null,
   "metadata": {},
   "outputs": [],
   "source": [
    "# OPTIONAL: Create a function to create Linear Regression plots\n"
   ]
  },
  {
   "cell_type": "code",
   "execution_count": null,
   "metadata": {},
   "outputs": [],
   "source": [
    "# Create Northern and Southern Hemisphere DataFrames\n"
   ]
  },
  {
   "cell_type": "markdown",
   "metadata": {},
   "source": [
    "####  Northern Hemisphere - Max Temp vs. Latitude Linear Regression"
   ]
  },
  {
   "cell_type": "code",
   "execution_count": null,
   "metadata": {},
   "outputs": [],
   "source": []
  },
  {
   "cell_type": "markdown",
   "metadata": {},
   "source": [
    "####  Southern Hemisphere - Max Temp vs. Latitude Linear Regression"
   ]
  },
  {
   "cell_type": "code",
   "execution_count": null,
   "metadata": {},
   "outputs": [],
   "source": []
  },
  {
   "cell_type": "markdown",
   "metadata": {},
   "source": [
    "####  Northern Hemisphere - Humidity (%) vs. Latitude Linear Regression"
   ]
  },
  {
   "cell_type": "code",
   "execution_count": null,
   "metadata": {},
   "outputs": [],
   "source": []
  },
  {
   "cell_type": "markdown",
   "metadata": {},
   "source": [
    "####  Southern Hemisphere - Humidity (%) vs. Latitude Linear Regression"
   ]
  },
  {
   "cell_type": "code",
   "execution_count": null,
   "metadata": {},
   "outputs": [],
   "source": []
  },
  {
   "cell_type": "markdown",
   "metadata": {},
   "source": [
    "####  Northern Hemisphere - Cloudiness (%) vs. Latitude Linear Regression"
   ]
  },
  {
   "cell_type": "code",
   "execution_count": null,
   "metadata": {},
   "outputs": [],
   "source": []
  },
  {
   "cell_type": "markdown",
   "metadata": {},
   "source": [
    "####  Southern Hemisphere - Cloudiness (%) vs. Latitude Linear Regression"
   ]
  },
  {
   "cell_type": "code",
   "execution_count": null,
   "metadata": {},
   "outputs": [],
   "source": []
  },
  {
   "cell_type": "markdown",
   "metadata": {},
   "source": [
    "####  Northern Hemisphere - Wind Speed (mph) vs. Latitude Linear Regression"
   ]
  },
  {
   "cell_type": "code",
   "execution_count": null,
   "metadata": {},
   "outputs": [],
   "source": []
  },
  {
   "cell_type": "markdown",
   "metadata": {},
   "source": [
    "####  Southern Hemisphere - Wind Speed (mph) vs. Latitude Linear Regression"
   ]
  },
  {
   "cell_type": "code",
   "execution_count": null,
   "metadata": {},
   "outputs": [],
   "source": []
  },
  {
   "cell_type": "code",
   "execution_count": null,
   "metadata": {},
   "outputs": [],
   "source": []
  }
 ],
 "metadata": {
  "anaconda-cloud": {},
  "kernel_info": {
   "name": "python3"
  },
  "kernelspec": {
   "display_name": "Python 3",
   "language": "python",
   "name": "python3"
  },
  "language_info": {
   "codemirror_mode": {
    "name": "ipython",
    "version": 3
   },
   "file_extension": ".py",
   "mimetype": "text/x-python",
   "name": "python",
   "nbconvert_exporter": "python",
   "pygments_lexer": "ipython3",
   "version": "3.7.4"
  },
  "latex_envs": {
   "LaTeX_envs_menu_present": true,
   "autoclose": false,
   "autocomplete": true,
   "bibliofile": "biblio.bib",
   "cite_by": "apalike",
   "current_citInitial": 1,
   "eqLabelWithNumbers": true,
   "eqNumInitial": 1,
   "hotkeys": {
    "equation": "Ctrl-E",
    "itemize": "Ctrl-I"
   },
   "labels_anchors": false,
   "latex_user_defs": false,
   "report_style_numbering": false,
   "user_envs_cfg": false
  },
  "nteract": {
   "version": "0.12.3"
  }
 },
 "nbformat": 4,
 "nbformat_minor": 2
}
